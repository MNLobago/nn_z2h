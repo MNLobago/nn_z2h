{
 "cells": [
  {
   "cell_type": "code",
   "execution_count": 1,
   "metadata": {},
   "outputs": [],
   "source": [
    "import torch\n",
    "import torch.nn.functional as F\n",
    "import matplotlib.pyplot as plt\n",
    "%matplotlib inline"
   ]
  },
  {
   "cell_type": "code",
   "execution_count": 2,
   "metadata": {},
   "outputs": [
    {
     "data": {
      "text/plain": [
       "['emma', 'olivia', 'ava', 'isabella', 'sophia', 'charlotte', 'mia', 'amelia']"
      ]
     },
     "execution_count": 2,
     "metadata": {},
     "output_type": "execute_result"
    }
   ],
   "source": [
    "# read in all the words\n",
    "words = open('names.txt', 'r').read().splitlines()\n",
    "words[:8]"
   ]
  },
  {
   "cell_type": "code",
   "execution_count": 3,
   "metadata": {},
   "outputs": [
    {
     "name": "stdout",
     "output_type": "stream",
     "text": [
      "{1: 'a', 2: 'b', 3: 'c', 4: 'd', 5: 'e', 6: 'f', 7: 'g', 8: 'h', 9: 'i', 10: 'j', 11: 'k', 12: 'l', 13: 'm', 14: 'n', 15: 'o', 16: 'p', 17: 'q', 18: 'r', 19: 's', 20: 't', 21: 'u', 22: 'v', 23: 'w', 24: 'x', 25: 'y', 26: 'z', 0: '.'}\n",
      "27\n"
     ]
    }
   ],
   "source": [
    "# build the vocabuary of characters and mappings to/from integers\n",
    "chars = sorted(list(set(''.join(words))))\n",
    "stoi = {s:i +1 for i, s in enumerate(chars)}\n",
    "stoi['.'] = 0\n",
    "itos = {i:s for s, i in stoi.items()}\n",
    "vocab_size = len(itos)\n",
    "print(itos)\n",
    "print(vocab_size)"
   ]
  },
  {
   "cell_type": "code",
   "execution_count": 4,
   "metadata": {},
   "outputs": [],
   "source": [
    "# split into training, dev/validation, test split to avoid over fitting and under fitting\n",
    "# 80%, 10% 10% "
   ]
  },
  {
   "cell_type": "code",
   "execution_count": 5,
   "metadata": {},
   "outputs": [
    {
     "name": "stdout",
     "output_type": "stream",
     "text": [
      "torch.Size([182625, 3]) torch.Size([182625])\n",
      "torch.Size([22655, 3]) torch.Size([22655])\n",
      "torch.Size([22866, 3]) torch.Size([22866])\n"
     ]
    }
   ],
   "source": [
    "block_size = 3 # context length: how many characters do we take to predict the next one?\n",
    "def build_dataset(words):\n",
    "    \n",
    "    X, Y = [], []\n",
    "\n",
    "    for w in words:\n",
    "\n",
    "        # print(w)\n",
    "        context = [0] * block_size\n",
    "        for ch in w + '.':\n",
    "            ix = stoi[ch]\n",
    "            X.append(context)\n",
    "            Y.append(ix)\n",
    "            # print(''.join(itos[i] for i in context), '---->', itos[ix])\n",
    "            context = context[1:] + [ix] # crop and append\n",
    "        \n",
    "    X = torch.tensor(X)\n",
    "    Y = torch.tensor(Y)\n",
    "    print(X.shape, Y.shape)\n",
    "    return X, Y\n",
    "    \n",
    "import random\n",
    "random.seed(42)\n",
    "random.shuffle(words)\n",
    "n1 = int(0.8*len(words))\n",
    "n2 = int(0.9*len(words))\n",
    "\n",
    "Xtr, Ytr = build_dataset(words[:n1])\n",
    "Xdev, Ydev = build_dataset(words[n1:n2])\n",
    "Xte, Yte = build_dataset(words[n2:])"
   ]
  },
  {
   "cell_type": "code",
   "execution_count": 6,
   "metadata": {},
   "outputs": [],
   "source": [
    "# loss = -prob[torch.arange(32), Y].log().mean()\n",
    "# loss"
   ]
  },
  {
   "cell_type": "code",
   "execution_count": 7,
   "metadata": {},
   "outputs": [
    {
     "data": {
      "text/plain": [
       "(torch.Size([182625, 3]), torch.Size([182625]))"
      ]
     },
     "execution_count": 7,
     "metadata": {},
     "output_type": "execute_result"
    }
   ],
   "source": [
    "Xtr.shape, Ytr.shape # dataset"
   ]
  },
  {
   "cell_type": "code",
   "execution_count": 97,
   "metadata": {},
   "outputs": [],
   "source": [
    "# MLP revisited\n",
    "n_embd = 10 # the dimensionality of the character embedding vectors\n",
    "n_hidden = 200 # the number of neurons in the hidden layer of the MLP\n",
    "\n",
    "g = torch.Generator().manual_seed(2147483647) # for reproductivity\n",
    "C = torch.randn((vocab_size, n_embd), generator=g)\n",
    "W1 = torch.randn((n_embd * block_size, n_hidden), generator=g) * (5/3 / ((n_embd * block_size) ** 0.5))\n",
    "# b1 = torch.randn(n_hidden, generator=g) * 0.01\n",
    "W2 = torch.randn((n_hidden, vocab_size), generator=g) * 0.1\n",
    "b2 = torch.randn(vocab_size, generator=g) * 0\n",
    "\n",
    "# Batch normalization parameters\n",
    "  \n",
    "bngain = torch.ones((1, n_hidden))\n",
    "bnbias = torch.zeros((1, n_hidden))\n",
    "bnmean_running = torch.ones((1, n_hidden))\n",
    "bnstd_running = torch.zeros((1, n_hidden))\n",
    "\n",
    "parameters = [C, W1, b2, W1, b2, bngain, bnbias]"
   ]
  },
  {
   "cell_type": "code",
   "execution_count": 98,
   "metadata": {},
   "outputs": [
    {
     "name": "stdout",
     "output_type": "stream",
     "text": [
      "12724\n"
     ]
    }
   ],
   "source": [
    "# number of parameters in total\n",
    "print(sum(p.nelement() for p in parameters))\n",
    "for p in parameters:\n",
    "    p.requires_grad = True"
   ]
  },
  {
   "cell_type": "code",
   "execution_count": 10,
   "metadata": {},
   "outputs": [
    {
     "data": {
      "text/plain": [
       "182625"
      ]
     },
     "execution_count": 10,
     "metadata": {},
     "output_type": "execute_result"
    }
   ],
   "source": [
    "Xtr.shape[0]"
   ]
  },
  {
   "cell_type": "code",
   "execution_count": 17,
   "metadata": {},
   "outputs": [],
   "source": [
    "# lri = []\n",
    "# lossi = []\n",
    "# stepi = []"
   ]
  },
  {
   "cell_type": "code",
   "execution_count": 99,
   "metadata": {},
   "outputs": [
    {
     "name": "stdout",
     "output_type": "stream",
     "text": [
      "      0/ 200000:  3.8586\n",
      "  10000/ 200000:  2.5431\n",
      "  20000/ 200000:  2.0232\n",
      "  30000/ 200000:  2.1122\n",
      "  40000/ 200000:  2.0482\n",
      "  50000/ 200000:  1.9903\n",
      "  60000/ 200000:  2.4981\n",
      "  70000/ 200000:  2.1466\n",
      "  80000/ 200000:  2.0043\n",
      "  90000/ 200000:  2.4457\n",
      " 100000/ 200000:  2.1429\n",
      " 110000/ 200000:  2.2719\n",
      " 120000/ 200000:  2.4500\n",
      " 130000/ 200000:  1.5796\n",
      " 140000/ 200000:  1.6982\n",
      " 150000/ 200000:  2.4611\n",
      " 160000/ 200000:  1.9638\n",
      " 170000/ 200000:  1.9209\n",
      " 180000/ 200000:  2.3502\n",
      " 190000/ 200000:  1.6446\n"
     ]
    }
   ],
   "source": [
    "max_steps = 200000\n",
    "batch_size = 32\n",
    "lossi = []\n",
    "\n",
    "for i in range(max_steps):\n",
    "\n",
    "    # minibatch construct\n",
    "    ix = torch.randint(0, Xtr.shape[0], (batch_size,))\n",
    "    Xb, Yb = Xtr[ix], Ytr[ix] # batch X, Y\n",
    "\n",
    "    # forward pass\n",
    "    emb = C[Xb] # embed the characters into vectors\n",
    "    embcat = emb.view(emb.shape[0], -1)\n",
    "    hpreact = embcat @ W1 #+ b1 # hidden layer preactivation\n",
    "\n",
    "    # batch norm layers\n",
    "    bnmeani = hpreact.mean(0, keepdim=True)\n",
    "    bnstdi = hpreact.std(0, keepdim=True)\n",
    "    hpreact =  bngain * (hpreact - bnmeani) / bnstdi + bnbias\n",
    "\n",
    "    with torch.no_grad():\n",
    "        bnmean_running = 0.999 * bnmean_running + 0.001 * bnmeani\n",
    "        bnstd_running = 0.999 * bnstd_running + 0.001 * bnstdi\n",
    "\n",
    "    # non-linearity\n",
    "    h = torch.tanh(hpreact) # hidden layer | activation function\n",
    "    logits = h @ W2 + b2 # output layer\n",
    "    # =========== DEPRECATED\n",
    "    # counts = logits.exp()\n",
    "    # prob = counts / counts.sum(1, keepdim=True)\n",
    "    # loss = -prob[torch.arange(32), Y].log().mean()\n",
    "    # =========== DEPRECATED\n",
    "    loss = F.cross_entropy(logits, Yb) # loss function\n",
    "    # print(loss.item())\n",
    "    \n",
    "    # backward pass\n",
    "    for p in parameters:\n",
    "        p.grad = None\n",
    "    loss.backward()\n",
    "\n",
    "    # update\n",
    "    # lr = lrs[i]\n",
    "    lr = 0.1 if i < 100000 else 0.01 # step learning rate decay\n",
    "    for p in parameters:\n",
    "        p.data += -lr * p.grad\n",
    "\n",
    "# track stats\n",
    "    if i % 10000 == 0: # modulo to print on every 10k steps along the way\n",
    "        print(f'{i: 7d}/{max_steps: 7d}: {loss.item(): .4f}')\n",
    "    lossi.append(loss.log10().item())"
   ]
  },
  {
   "cell_type": "code",
   "execution_count": 64,
   "metadata": {},
   "outputs": [],
   "source": [
    "# plt.hist(h.view(-1).tolist(), 30)\n",
    "# tanh saturation test"
   ]
  },
  {
   "cell_type": "code",
   "execution_count": 65,
   "metadata": {},
   "outputs": [],
   "source": [
    "# plt.hist(hpreact.view(-1).tolist(), 30)\n",
    "# tanh saturation test"
   ]
  },
  {
   "cell_type": "code",
   "execution_count": 103,
   "metadata": {},
   "outputs": [
    {
     "data": {
      "text/plain": [
       "[<matplotlib.lines.Line2D at 0x1f9bbec4c50>]"
      ]
     },
     "execution_count": 103,
     "metadata": {},
     "output_type": "execute_result"
    },
    {
     "data": {
      "image/png": "[encoded data removed]",
      "text/plain": [
       "<Figure size 640x480 with 1 Axes>"
      ]
     },
     "metadata": {},
     "output_type": "display_data"
    }
   ],
   "source": [
    "plt.plot(lossi)\n",
    "# softmax confidence test"
   ]
  },
  {
   "cell_type": "code",
   "execution_count": 104,
   "metadata": {},
   "outputs": [
    {
     "data": {
      "text/plain": [
       "tensor([[-0.1125, -0.6962, -2.0155, -1.6493,  1.1638, -0.9438,  1.1343, -0.7710,\n",
       "         -0.4384,  1.3693, -1.4693, -1.2758, -0.1773,  0.4073, -1.9792, -2.8481,\n",
       "          0.9616, -3.4606, -1.2726,  0.9510, -0.4775, -0.7564,  2.7180, -1.4240,\n",
       "          0.8727,  0.3750,  1.7687,  0.0206, -0.3429,  1.0482,  1.4027, -1.4955,\n",
       "         -0.3247,  0.3733, -0.3170,  1.3154, -1.3531,  1.3565,  0.5287,  0.2963,\n",
       "         -0.5595, -2.7455, -0.6867,  0.3094,  0.1018, -0.8616,  0.4704,  0.4426,\n",
       "          2.2613,  2.1967,  2.3273,  2.0339,  1.5013,  0.8986,  2.5703, -1.2231,\n",
       "         -2.7829, -0.0762,  2.1839, -1.5872, -0.0554,  0.9998,  0.5907, -0.3457,\n",
       "          0.9557, -0.8833, -1.0971,  0.9089,  0.5718,  0.4417, -0.2203, -1.3472,\n",
       "          2.3177, -1.7209, -2.1883, -0.4721, -0.0098, -0.0839, -0.1666, -1.6761,\n",
       "          2.3797, -1.6524,  0.0091,  1.0919,  2.2575, -0.1645,  0.5653,  1.6241,\n",
       "         -0.0269,  0.2027,  0.3282,  0.0047, -0.1058, -1.2224, -0.7834,  0.9282,\n",
       "          0.4826,  1.1285, -0.3000, -1.6493,  1.1964,  2.1225, -3.3019,  1.4347,\n",
       "          2.3483,  0.3578, -0.8449, -0.0296, -0.9588,  1.5074,  0.1598,  1.3103,\n",
       "         -1.4016,  1.2111,  0.5688,  1.6929, -1.2738,  0.5755,  0.4109, -0.6662,\n",
       "         -1.5036, -1.4625, -0.3985,  0.3726,  0.7557, -0.6596,  0.5281, -0.0484,\n",
       "          0.5938, -2.5798,  1.5114, -2.4495, -2.4116, -0.4759, -0.1536,  0.8374,\n",
       "         -0.7272, -0.2178,  1.2607, -0.0330,  0.0058,  0.8223, -0.5064,  1.8600,\n",
       "          1.4262,  0.5455, -0.1452, -1.7637,  2.3574,  3.2370,  1.0231,  0.3104,\n",
       "          0.0649,  0.7554, -0.4358, -1.7542,  1.3780, -2.1257,  0.5216, -0.0541,\n",
       "          1.0441,  0.3171,  2.2748, -1.7067,  1.3195,  1.7848, -0.1377, -1.2561,\n",
       "          0.3875, -1.2251,  2.1129,  1.4774,  0.1370,  2.0511,  0.6659,  0.0566,\n",
       "          0.4014, -1.6190,  1.0334, -0.3240,  2.0581,  2.9403, -0.4426, -0.3331,\n",
       "         -0.6946,  1.9074,  1.9011, -2.1729,  0.1901,  0.2524,  0.3792,  2.8533,\n",
       "         -0.9852, -0.8814, -0.3476, -1.9696,  2.7559, -1.6518, -1.5014,  0.6264]])"
      ]
     },
     "execution_count": 104,
     "metadata": {},
     "output_type": "execute_result"
    }
   ],
   "source": [
    "with torch.no_grad():\n",
    "    # pass the training set through\n",
    "    emb = C[Xtr]\n",
    "    embcat = emb.view(emb.shape[0], -1)\n",
    "    hpreact = embcat @ W1 #+ b1\n",
    "    # measure the mean/std over the entire training set\n",
    "    # batch normalization\n",
    "    bnmean = hpreact.mean(0, keepdim=True)\n",
    "    bnstd = hpreact.std(0, keepdim=True)\n",
    "\n",
    "\n",
    "# hpreact.mean(0, keepdim=True).shape, hpreact.std(0, keepdim=True).shape\n",
    "# bnmean"
   ]
  },
  {
   "cell_type": "code",
   "execution_count": 107,
   "metadata": {},
   "outputs": [
    {
     "name": "stdout",
     "output_type": "stream",
     "text": [
      "train 2.133599281311035\n",
      "val 2.158169984817505\n"
     ]
    }
   ],
   "source": [
    "@torch.no_grad() # this decorator disables gradient tracking\n",
    "def split_loss(split):\n",
    "    x,y = {\n",
    "        'train': (Xtr, Ytr),\n",
    "        'val': (Xdev, Ydev),\n",
    "        'test': (Xte, Yte)\n",
    "    }[split]\n",
    "\n",
    "    emb = C[x] # (N, block_size, n_embed)\n",
    "    embcat = emb.view(emb.shape[0], -1) # concat into (N, block_Size * n_ebmd)\n",
    "    hpreact = embcat @ W1  #+ b1 # hidden layer preactivation\n",
    "    hpreact =  bngain * (hpreact - bnmean) / bnstd + bnbias\n",
    "    h = torch.tanh(hpreact) # (N, n_hidden)\n",
    "    logits = h @ W2 + b2 # (N, vocab_size)\n",
    "    loss = F.cross_entropy(logits, y)\n",
    "    print(split, loss.item())\n",
    "\n",
    "split_loss('train')\n",
    "split_loss('val')"
   ]
  },
  {
   "cell_type": "code",
   "execution_count": 71,
   "metadata": {},
   "outputs": [
    {
     "data": {
      "image/png": "[encoded data removed]",
      "text/plain": [
       "<Figure size 800x800 with 1 Axes>"
      ]
     },
     "metadata": {},
     "output_type": "display_data"
    }
   ],
   "source": [
    "plt.figure(figsize=(8,8))\n",
    "plt.scatter(C[:, 0].data, C[:, 1].data, s=200)\n",
    "for i in range(C.shape[0]):\n",
    "    plt.text(C[i,0].item(), C[i,1].item(), itos[i], ha=\"center\", va=\"center\", color=\"white\")\n",
    "plt.grid('minor')"
   ]
  },
  {
   "cell_type": "code",
   "execution_count": 26,
   "metadata": {},
   "outputs": [
    {
     "name": "stdout",
     "output_type": "stream",
     "text": [
      "montalmyazhiee.\n",
      "mad.\n",
      "ryah.\n",
      "rethruttadrari.\n",
      "aderedielin.\n",
      "shi.\n",
      "jenleigh.\n",
      "edora.\n",
      "raelyn.\n",
      "malke.\n",
      "cayshaberghai.\n",
      "jest.\n",
      "jair.\n",
      "jelionntton.\n",
      "kue.\n",
      "kavdi.\n",
      "jamelizek.\n",
      "yule.\n",
      "mystouda.\n",
      "halina.\n"
     ]
    }
   ],
   "source": [
    "# sample from the network\n",
    "g = torch.Generator().manual_seed(2147483647 + 10)\n",
    "\n",
    "for _ in range (20):\n",
    "    out = []\n",
    "    context = [0] * block_size\n",
    "    while True:\n",
    "        emb = C[torch.tensor([context])] # (1, block_size, d)\n",
    "        h = torch.tanh(emb.view(1, -1) @ W1 + b1)\n",
    "        logits = h @ W2 + b2\n",
    "        probs = F.softmax(logits, dim=1)\n",
    "        ix = torch.multinomial(probs, num_samples = 1, generator=g).item()\n",
    "        context = context[1:] + [ix]\n",
    "        out.append(ix)\n",
    "        if ix == 0:\n",
    "            break\n",
    "\n",
    "    print(''.join(itos[i] for i in out))"
   ]
  },
  {
   "cell_type": "code",
   "execution_count": null,
   "metadata": {},
   "outputs": [
    {
     "data": {
      "text/plain": [
       "torch.Size([32])"
      ]
     },
     "execution_count": 262,
     "metadata": {},
     "output_type": "execute_result"
    }
   ],
   "source": [
    "# let us infer a minibatch to save the NN from taking on too much at a time\n",
    "\n",
    "torch.randint(0, X.shape[0], (32,)).shape"
   ]
  },
  {
   "cell_type": "code",
   "execution_count": null,
   "metadata": {},
   "outputs": [
    {
     "data": {
      "text/plain": [
       "torch.return_types.max(\n",
       "values=tensor([1.5988, 4.2595, 2.1688, 2.0830, 2.2983, 1.9719, 1.5988, 1.7469, 2.0649,\n",
       "        1.7365, 2.1566, 1.6348, 2.9471, 1.9044, 3.0296, 1.8141, 1.7365, 1.5003,\n",
       "        1.9932, 2.2448, 2.0914, 2.3320, 2.2010, 1.9666, 2.6070, 2.1784, 2.0046,\n",
       "        2.1909, 1.7365, 1.7365, 1.8599, 1.6266], grad_fn=<MaxBackward0>),\n",
       "indices=tensor([12, 12,  1,  5,  0,  5, 12,  0,  1,  1,  0, 12,  0,  1,  5,  0,  1, 12,\n",
       "         5,  0,  0,  5,  0,  5,  0,  5,  1,  1,  1,  1,  0,  5]))"
      ]
     },
     "execution_count": 263,
     "metadata": {},
     "output_type": "execute_result"
    }
   ],
   "source": [
    "logits.max(1)"
   ]
  },
  {
   "cell_type": "code",
   "execution_count": null,
   "metadata": {},
   "outputs": [
    {
     "data": {
      "text/plain": [
       "tensor([ 5, 13, 13,  ..., 26, 24,  0])"
      ]
     },
     "execution_count": 264,
     "metadata": {},
     "output_type": "execute_result"
    }
   ],
   "source": [
    "Y"
   ]
  }
 ],
 "metadata": {
  "kernelspec": {
   "display_name": "torchlight",
   "language": "python",
   "name": "python3"
  },
  "language_info": {
   "codemirror_mode": {
    "name": "ipython",
    "version": 3
   },
   "file_extension": ".py",
   "mimetype": "text/x-python",
   "name": "python",
   "nbconvert_exporter": "python",
   "pygments_lexer": "ipython3",
   "version": "3.12.3"
  }
 },
 "nbformat": 4,
 "nbformat_minor": 2
}
